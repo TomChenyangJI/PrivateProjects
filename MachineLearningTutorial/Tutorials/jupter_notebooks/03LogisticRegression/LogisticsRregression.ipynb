{
 "cells": [
  {
   "cell_type": "code",
   "execution_count": 76,
   "id": "464032c8-9d43-4bf4-bd4c-46a49caf8afb",
   "metadata": {},
   "outputs": [],
   "source": [
    "import torch\n",
    "# %pip install torchvision\n",
    "\n",
    "import torchvision\n",
    "from torchvision.datasets import MNIST\n",
    "# %pip install numpy==1.25\n",
    "import numpy as np\n",
    "# %pip uninstall pillow -y\n",
    "# %pip install pillow\n",
    "from PIL import Image\n"
   ]
  },
  {
   "cell_type": "code",
   "execution_count": 77,
   "id": "e178180f-ae5d-4ec1-a839-701eb976db28",
   "metadata": {},
   "outputs": [],
   "source": [
    "dataset = MNIST(root=\"data/\", \n",
    "                # download=True\n",
    "               )"
   ]
  },
  {
   "cell_type": "code",
   "execution_count": 78,
   "id": "91880f65-f2a2-4732-a298-750a787e532c",
   "metadata": {},
   "outputs": [
    {
     "data": {
      "text/plain": [
       "60000"
      ]
     },
     "execution_count": 78,
     "metadata": {},
     "output_type": "execute_result"
    }
   ],
   "source": [
    "len(dataset)"
   ]
  },
  {
   "cell_type": "code",
   "execution_count": 79,
   "id": "5d81ed1b-5e2c-4617-837c-28f9dcdb6667",
   "metadata": {},
   "outputs": [
    {
     "data": {
      "text/plain": [
       "10000"
      ]
     },
     "execution_count": 79,
     "metadata": {},
     "output_type": "execute_result"
    }
   ],
   "source": [
    "test_dataset = MNIST(root=\"root/\", train=False, \n",
    "                     # download=True\n",
    "                    )\n",
    "len(test_dataset)"
   ]
  },
  {
   "cell_type": "code",
   "execution_count": 80,
   "id": "64a761a9-d2d6-477b-b06b-a86f8ca82339",
   "metadata": {},
   "outputs": [
    {
     "data": {
      "text/plain": [
       "(<PIL.Image.Image image mode=L size=28x28>, 5)"
      ]
     },
     "execution_count": 80,
     "metadata": {},
     "output_type": "execute_result"
    }
   ],
   "source": [
    "dataset[0]"
   ]
  },
  {
   "cell_type": "code",
   "execution_count": 81,
   "id": "b2a329b4-1381-47d3-ba0e-bff58c560ca1",
   "metadata": {},
   "outputs": [],
   "source": [
    "# %pip install numpy==1.23\n",
    "# %pip install matplotlib\n",
    "# %pip install pillow  # this is the right way to download the python packages"
   ]
  },
  {
   "cell_type": "code",
   "execution_count": 82,
   "id": "e11db790-3c18-4a51-b194-11b6a7c7c1f2",
   "metadata": {},
   "outputs": [],
   "source": [
    "import matplotlib.pyplot as plt\n",
    "%matplotlib inline"
   ]
  },
  {
   "cell_type": "code",
   "execution_count": 83,
   "id": "7aeeab4e-1c9e-455c-bd81-560e51b7c41d",
   "metadata": {},
   "outputs": [
    {
     "name": "stdout",
     "output_type": "stream",
     "text": [
      "Label: 5\n"
     ]
    },
    {
     "data": {
      "image/png": "[encoded data removed]",
      "text/plain": [
       "<Figure size 640x480 with 1 Axes>"
      ]
     },
     "metadata": {},
     "output_type": "display_data"
    }
   ],
   "source": [
    "image, label = dataset[0]\n",
    "plt.imshow(image, cmap='gray')\n",
    "print(\"Label:\", label)"
   ]
  },
  {
   "cell_type": "code",
   "execution_count": 84,
   "id": "d29cef9b-fa00-435c-b67f-11e1cdb701d9",
   "metadata": {},
   "outputs": [],
   "source": [
    "# %pip install --upgrade matplotlib"
   ]
  },
  {
   "cell_type": "code",
   "execution_count": 85,
   "id": "c91f8f0c-1ad9-44dc-9e93-ddda012bbeb5",
   "metadata": {},
   "outputs": [
    {
     "name": "stdout",
     "output_type": "stream",
     "text": [
      "Label: 3\n"
     ]
    },
    {
     "data": {
      "image/png": "[encoded data removed]",
      "text/plain": [
       "<Figure size 640x480 with 1 Axes>"
      ]
     },
     "metadata": {},
     "output_type": "display_data"
    }
   ],
   "source": [
    "image, label = dataset[10]\n",
    "plt.imshow(image, cmap='gray')\n",
    "print(\"Label:\", label)"
   ]
  },
  {
   "cell_type": "code",
   "execution_count": 86,
   "id": "fffe2fdd-9c71-41c7-862a-e93c9aa14115",
   "metadata": {},
   "outputs": [],
   "source": [
    "import torchvision.transforms as transforms\n",
    "# torchvision.transforms module contains many such predefined functions."
   ]
  },
  {
   "cell_type": "code",
   "execution_count": 87,
   "id": "4fd1d78e-a0fa-4fe7-91b8-a726adff6eb1",
   "metadata": {},
   "outputs": [],
   "source": [
    "dataset = MNIST(root=\"data/\", train=True,\n",
    "                transform=transforms.ToTensor()\n",
    "               )"
   ]
  },
  {
   "cell_type": "code",
   "execution_count": 88,
   "id": "3d813bd5-9ded-4cd5-9e0c-309db94990e3",
   "metadata": {},
   "outputs": [
    {
     "name": "stdout",
     "output_type": "stream",
     "text": [
      "torch.Size([1, 28, 28]) 5\n"
     ]
    }
   ],
   "source": [
    "img_tensor, label = dataset[0]\n",
    "print(img_tensor.shape, label)\n"
   ]
  },
  {
   "cell_type": "code",
   "execution_count": 89,
   "id": "300ad36d-ab83-471c-8a45-bfb38dac64fc",
   "metadata": {},
   "outputs": [
    {
     "name": "stdout",
     "output_type": "stream",
     "text": [
      "tensor([[0.0039, 0.6039, 0.9922, 0.3529, 0.0000],\n",
      "        [0.0000, 0.5451, 0.9922, 0.7451, 0.0078],\n",
      "        [0.0000, 0.0431, 0.7451, 0.9922, 0.2745],\n",
      "        [0.0000, 0.0000, 0.1373, 0.9451, 0.8824],\n",
      "        [0.0000, 0.0000, 0.0000, 0.3176, 0.9412]])\n",
      "tensor(1.) tensor(0.)\n"
     ]
    }
   ],
   "source": [
    "print(img_tensor[0, 10:15, 10:15])\n",
    "print(torch.max(img_tensor), torch.min(img_tensor))\n",
    "# with 0 representing black, 1 white, and the values in between different shades of grey."
   ]
  },
  {
   "cell_type": "code",
   "execution_count": 90,
   "id": "eaf9c5a8-2fb6-4eee-b875-d1088e420679",
   "metadata": {},
   "outputs": [
    {
     "data": {
      "text/plain": [
       "<matplotlib.image.AxesImage at 0x1682beb90>"
      ]
     },
     "execution_count": 90,
     "metadata": {},
     "output_type": "execute_result"
    },
    {
     "data": {
      "image/png": "[encoded data removed]",
      "text/plain": [
       "<Figure size 640x480 with 1 Axes>"
      ]
     },
     "metadata": {},
     "output_type": "display_data"
    }
   ],
   "source": [
    "plt.imshow(img_tensor[0, 10:15, 10:15], cmap='gray')"
   ]
  },
  {
   "cell_type": "code",
   "execution_count": 91,
   "id": "9a47f7bd-b0f2-47bc-8ae9-b217e847662b",
   "metadata": {},
   "outputs": [
    {
     "data": {
      "text/plain": [
       "(50000, 10000)"
      ]
     },
     "execution_count": 91,
     "metadata": {},
     "output_type": "execute_result"
    }
   ],
   "source": [
    "from torch.utils.data import random_split\n",
    "\n",
    "train_ds, val_ds = random_split(dataset, [50000, 10000])\n",
    "len(train_ds), len(val_ds)"
   ]
  },
  {
   "cell_type": "code",
   "execution_count": 92,
   "id": "49ad5904-591b-4438-b000-51b67a9a5180",
   "metadata": {},
   "outputs": [],
   "source": [
    "from torch.utils.data import DataLoader\n",
    "\n",
    "batch_size = 128\n",
    "\n",
    "train_loader = DataLoader(train_ds, batch_size, shuffle=True)\n",
    "val_loader = DataLoader(val_ds, batch_size)"
   ]
  },
  {
   "cell_type": "code",
   "execution_count": 93,
   "id": "afd4aeee-674e-4cb2-a1dd-349b44a8fb45",
   "metadata": {},
   "outputs": [],
   "source": [
    "import torch.nn as nn\n",
    "\n",
    "input_size = 28 * 28\n",
    "num_classes = 10\n",
    "\n",
    "model = nn.Linear(input_size, num_classes)  # input size, output size"
   ]
  },
  {
   "cell_type": "code",
   "execution_count": 94,
   "id": "f873349d-5efb-4739-a54d-5fb7c77c8e2f",
   "metadata": {},
   "outputs": [
    {
     "name": "stdout",
     "output_type": "stream",
     "text": [
      "torch.Size([10, 784])\n"
     ]
    },
    {
     "data": {
      "text/plain": [
       "Parameter containing:\n",
       "tensor([[-0.0007, -0.0152,  0.0156,  ..., -0.0177, -0.0150,  0.0125],\n",
       "        [-0.0245, -0.0139,  0.0248,  ...,  0.0214,  0.0011,  0.0237],\n",
       "        [ 0.0282, -0.0194, -0.0356,  ..., -0.0033,  0.0206, -0.0020],\n",
       "        ...,\n",
       "        [ 0.0316, -0.0297,  0.0101,  ..., -0.0199, -0.0127, -0.0062],\n",
       "        [ 0.0152, -0.0055,  0.0339,  ...,  0.0313, -0.0208,  0.0293],\n",
       "        [ 0.0097,  0.0118, -0.0114,  ...,  0.0323,  0.0123,  0.0279]],\n",
       "       requires_grad=True)"
      ]
     },
     "execution_count": 94,
     "metadata": {},
     "output_type": "execute_result"
    }
   ],
   "source": [
    "print(model.weight.shape)\n",
    "model.weight"
   ]
  },
  {
   "cell_type": "code",
   "execution_count": 95,
   "id": "7a43a72f-47a7-4145-a3a2-e55dd97bc0ee",
   "metadata": {},
   "outputs": [
    {
     "name": "stdout",
     "output_type": "stream",
     "text": [
      "torch.Size([10])\n"
     ]
    },
    {
     "data": {
      "text/plain": [
       "Parameter containing:\n",
       "tensor([ 0.0180, -0.0198,  0.0347,  0.0313,  0.0090,  0.0231,  0.0323, -0.0104,\n",
       "         0.0145, -0.0272], requires_grad=True)"
      ]
     },
     "execution_count": 95,
     "metadata": {},
     "output_type": "execute_result"
    }
   ],
   "source": [
    "print(model.bias.shape)\n",
    "model.bias"
   ]
  },
  {
   "cell_type": "code",
   "execution_count": 96,
   "id": "359fb99d-683c-4bc6-9af9-9e7220fe0063",
   "metadata": {},
   "outputs": [
    {
     "name": "stdout",
     "output_type": "stream",
     "text": [
      "tensor([7, 3, 7, 5, 3, 8, 1, 5, 0, 6, 9, 0, 1, 8, 6, 3, 9, 0, 8, 1, 2, 1, 8, 2,\n",
      "        3, 9, 2, 0, 1, 2, 4, 1, 1, 4, 5, 3, 8, 4, 4, 5, 8, 8, 8, 1, 8, 3, 4, 5,\n",
      "        0, 3, 7, 3, 5, 0, 1, 9, 4, 3, 1, 0, 0, 8, 6, 1, 6, 7, 1, 8, 4, 2, 6, 2,\n",
      "        3, 4, 1, 0, 7, 3, 0, 7, 1, 6, 5, 7, 7, 3, 0, 4, 3, 6, 2, 0, 2, 4, 2, 3,\n",
      "        3, 3, 3, 4, 2, 5, 2, 2, 6, 2, 0, 6, 4, 3, 2, 8, 2, 2, 4, 3, 1, 7, 1, 3,\n",
      "        5, 1, 6, 1, 8, 8, 9, 1])\n",
      "torch.Size([128, 1, 28, 28])\n"
     ]
    },
    {
     "ename": "RuntimeError",
     "evalue": "mat1 and mat2 shapes cannot be multiplied (3584x28 and 784x10)",
     "output_type": "error",
     "traceback": [
      "\u001b[0;31m---------------------------------------------------------------------------\u001b[0m",
      "\u001b[0;31mRuntimeError\u001b[0m                              Traceback (most recent call last)",
      "Cell \u001b[0;32mIn[96], line 4\u001b[0m\n\u001b[1;32m      2\u001b[0m \u001b[38;5;28mprint\u001b[39m(labels)\n\u001b[1;32m      3\u001b[0m \u001b[38;5;28mprint\u001b[39m(images\u001b[38;5;241m.\u001b[39mshape)\n\u001b[0;32m----> 4\u001b[0m outputs \u001b[38;5;241m=\u001b[39m \u001b[43mmodel\u001b[49m\u001b[43m(\u001b[49m\u001b[43mimages\u001b[49m\u001b[43m)\u001b[49m\n\u001b[1;32m      5\u001b[0m \u001b[38;5;28mprint\u001b[39m(outputs)\n\u001b[1;32m      6\u001b[0m \u001b[38;5;28;01mbreak\u001b[39;00m\n",
      "File \u001b[0;32m/Library/Frameworks/Python.framework/Versions/3.11/lib/python3.11/site-packages/torch/nn/modules/module.py:1511\u001b[0m, in \u001b[0;36mModule._wrapped_call_impl\u001b[0;34m(self, *args, **kwargs)\u001b[0m\n\u001b[1;32m   1509\u001b[0m     \u001b[38;5;28;01mreturn\u001b[39;00m \u001b[38;5;28mself\u001b[39m\u001b[38;5;241m.\u001b[39m_compiled_call_impl(\u001b[38;5;241m*\u001b[39margs, \u001b[38;5;241m*\u001b[39m\u001b[38;5;241m*\u001b[39mkwargs)  \u001b[38;5;66;03m# type: ignore[misc]\u001b[39;00m\n\u001b[1;32m   1510\u001b[0m \u001b[38;5;28;01melse\u001b[39;00m:\n\u001b[0;32m-> 1511\u001b[0m     \u001b[38;5;28;01mreturn\u001b[39;00m \u001b[38;5;28;43mself\u001b[39;49m\u001b[38;5;241;43m.\u001b[39;49m\u001b[43m_call_impl\u001b[49m\u001b[43m(\u001b[49m\u001b[38;5;241;43m*\u001b[39;49m\u001b[43margs\u001b[49m\u001b[43m,\u001b[49m\u001b[43m \u001b[49m\u001b[38;5;241;43m*\u001b[39;49m\u001b[38;5;241;43m*\u001b[39;49m\u001b[43mkwargs\u001b[49m\u001b[43m)\u001b[49m\n",
      "File \u001b[0;32m/Library/Frameworks/Python.framework/Versions/3.11/lib/python3.11/site-packages/torch/nn/modules/module.py:1520\u001b[0m, in \u001b[0;36mModule._call_impl\u001b[0;34m(self, *args, **kwargs)\u001b[0m\n\u001b[1;32m   1515\u001b[0m \u001b[38;5;66;03m# If we don't have any hooks, we want to skip the rest of the logic in\u001b[39;00m\n\u001b[1;32m   1516\u001b[0m \u001b[38;5;66;03m# this function, and just call forward.\u001b[39;00m\n\u001b[1;32m   1517\u001b[0m \u001b[38;5;28;01mif\u001b[39;00m \u001b[38;5;129;01mnot\u001b[39;00m (\u001b[38;5;28mself\u001b[39m\u001b[38;5;241m.\u001b[39m_backward_hooks \u001b[38;5;129;01mor\u001b[39;00m \u001b[38;5;28mself\u001b[39m\u001b[38;5;241m.\u001b[39m_backward_pre_hooks \u001b[38;5;129;01mor\u001b[39;00m \u001b[38;5;28mself\u001b[39m\u001b[38;5;241m.\u001b[39m_forward_hooks \u001b[38;5;129;01mor\u001b[39;00m \u001b[38;5;28mself\u001b[39m\u001b[38;5;241m.\u001b[39m_forward_pre_hooks\n\u001b[1;32m   1518\u001b[0m         \u001b[38;5;129;01mor\u001b[39;00m _global_backward_pre_hooks \u001b[38;5;129;01mor\u001b[39;00m _global_backward_hooks\n\u001b[1;32m   1519\u001b[0m         \u001b[38;5;129;01mor\u001b[39;00m _global_forward_hooks \u001b[38;5;129;01mor\u001b[39;00m _global_forward_pre_hooks):\n\u001b[0;32m-> 1520\u001b[0m     \u001b[38;5;28;01mreturn\u001b[39;00m \u001b[43mforward_call\u001b[49m\u001b[43m(\u001b[49m\u001b[38;5;241;43m*\u001b[39;49m\u001b[43margs\u001b[49m\u001b[43m,\u001b[49m\u001b[43m \u001b[49m\u001b[38;5;241;43m*\u001b[39;49m\u001b[38;5;241;43m*\u001b[39;49m\u001b[43mkwargs\u001b[49m\u001b[43m)\u001b[49m\n\u001b[1;32m   1522\u001b[0m \u001b[38;5;28;01mtry\u001b[39;00m:\n\u001b[1;32m   1523\u001b[0m     result \u001b[38;5;241m=\u001b[39m \u001b[38;5;28;01mNone\u001b[39;00m\n",
      "File \u001b[0;32m/Library/Frameworks/Python.framework/Versions/3.11/lib/python3.11/site-packages/torch/nn/modules/linear.py:116\u001b[0m, in \u001b[0;36mLinear.forward\u001b[0;34m(self, input)\u001b[0m\n\u001b[1;32m    115\u001b[0m \u001b[38;5;28;01mdef\u001b[39;00m \u001b[38;5;21mforward\u001b[39m(\u001b[38;5;28mself\u001b[39m, \u001b[38;5;28minput\u001b[39m: Tensor) \u001b[38;5;241m-\u001b[39m\u001b[38;5;241m>\u001b[39m Tensor:\n\u001b[0;32m--> 116\u001b[0m     \u001b[38;5;28;01mreturn\u001b[39;00m \u001b[43mF\u001b[49m\u001b[38;5;241;43m.\u001b[39;49m\u001b[43mlinear\u001b[49m\u001b[43m(\u001b[49m\u001b[38;5;28;43minput\u001b[39;49m\u001b[43m,\u001b[49m\u001b[43m \u001b[49m\u001b[38;5;28;43mself\u001b[39;49m\u001b[38;5;241;43m.\u001b[39;49m\u001b[43mweight\u001b[49m\u001b[43m,\u001b[49m\u001b[43m \u001b[49m\u001b[38;5;28;43mself\u001b[39;49m\u001b[38;5;241;43m.\u001b[39;49m\u001b[43mbias\u001b[49m\u001b[43m)\u001b[49m\n",
      "\u001b[0;31mRuntimeError\u001b[0m: mat1 and mat2 shapes cannot be multiplied (3584x28 and 784x10)"
     ]
    }
   ],
   "source": [
    "for images, labels in train_loader:\n",
    "    print(labels)\n",
    "    print(images.shape)\n",
    "    outputs = model(images)\n",
    "    print(outputs)\n",
    "    break"
   ]
  },
  {
   "cell_type": "code",
   "execution_count": 97,
   "id": "764c7855-20f0-4ef2-89c5-1fb5a155e4f0",
   "metadata": {},
   "outputs": [
    {
     "data": {
      "text/plain": [
       "torch.Size([128, 1, 28, 28])"
      ]
     },
     "execution_count": 97,
     "metadata": {},
     "output_type": "execute_result"
    }
   ],
   "source": [
    "images.shape  # the tensor has the attribute `shape`"
   ]
  },
  {
   "cell_type": "code",
   "execution_count": 98,
   "id": "530fa1a4-c22c-4800-a35d-991faaeb8279",
   "metadata": {},
   "outputs": [
    {
     "data": {
      "text/plain": [
       "torch.Size([128, 784])"
      ]
     },
     "execution_count": 98,
     "metadata": {},
     "output_type": "execute_result"
    }
   ],
   "source": [
    "images.reshape(128, 784).shape"
   ]
  },
  {
   "cell_type": "code",
   "execution_count": 99,
   "id": "b3ce5e14-7d4b-4bae-ae40-d14472366c2d",
   "metadata": {},
   "outputs": [
    {
     "name": "stdout",
     "output_type": "stream",
     "text": [
      "<class 'torch.Tensor'>\n"
     ]
    }
   ],
   "source": [
    "print(type(images))"
   ]
  },
  {
   "cell_type": "code",
   "execution_count": 100,
   "id": "714d010b-cc71-4357-95a8-bbe3a7800ea0",
   "metadata": {},
   "outputs": [],
   "source": [
    "class Person:\n",
    "    def __init__(self, name, age):\n",
    "        self.name = name\n",
    "        self.age = age\n",
    "\n",
    "    def say_hello(self):\n",
    "        print(\"Hello my name is \" + self.name + \"!\")"
   ]
  },
  {
   "cell_type": "code",
   "execution_count": 101,
   "id": "368c10ec-9dee-47a6-8e01-754c76c1e4e0",
   "metadata": {},
   "outputs": [],
   "source": [
    "bob = Person(\"Bob\", 32)"
   ]
  },
  {
   "cell_type": "code",
   "execution_count": 102,
   "id": "5638e294-7dde-41fb-a0c6-4b4275553053",
   "metadata": {},
   "outputs": [
    {
     "name": "stdout",
     "output_type": "stream",
     "text": [
      "Hello my name is Bob!\n"
     ]
    }
   ],
   "source": [
    "bob.say_hello()"
   ]
  },
  {
   "cell_type": "code",
   "execution_count": 103,
   "id": "9f01e994-28a0-458d-8be6-e20876e83541",
   "metadata": {},
   "outputs": [],
   "source": [
    "class MnistModel(nn.Module):\n",
    "    def __init__(self):\n",
    "        super().__init__()\n",
    "        self.linear = nn.Linear(input_size, num_classes)\n",
    "\n",
    "    def forward(self, xb):\n",
    "        xb = xb.reshape(-1, 784)\n",
    "        out = self.linear(xb)\n",
    "        return out\n",
    "\n",
    "model = MnistModel()"
   ]
  },
  {
   "cell_type": "code",
   "execution_count": 104,
   "id": "bb5ed10a-0ae2-4c39-a09d-b2ace69b3490",
   "metadata": {},
   "outputs": [
    {
     "data": {
      "text/plain": [
       "Linear(in_features=784, out_features=10, bias=True)"
      ]
     },
     "execution_count": 104,
     "metadata": {},
     "output_type": "execute_result"
    }
   ],
   "source": [
    "model.linear"
   ]
  },
  {
   "cell_type": "code",
   "execution_count": 105,
   "id": "3ace8edd-65f3-4c45-8b5a-66f8910fce8d",
   "metadata": {},
   "outputs": [
    {
     "name": "stdout",
     "output_type": "stream",
     "text": [
      "torch.Size([10, 784]) torch.Size([10])\n"
     ]
    },
    {
     "data": {
      "text/plain": [
       "[Parameter containing:\n",
       " tensor([[ 0.0211,  0.0302,  0.0057,  ...,  0.0022,  0.0066,  0.0011],\n",
       "         [ 0.0173,  0.0327, -0.0127,  ...,  0.0025, -0.0320,  0.0348],\n",
       "         [-0.0090, -0.0227, -0.0245,  ...,  0.0212,  0.0207,  0.0143],\n",
       "         ...,\n",
       "         [-0.0206, -0.0262, -0.0192,  ..., -0.0287,  0.0338,  0.0270],\n",
       "         [-0.0145, -0.0312, -0.0271,  ...,  0.0252, -0.0011, -0.0217],\n",
       "         [-0.0320,  0.0122, -0.0338,  ..., -0.0102,  0.0247,  0.0304]],\n",
       "        requires_grad=True),\n",
       " Parameter containing:\n",
       " tensor([-0.0195,  0.0226, -0.0147, -0.0260,  0.0098,  0.0033, -0.0017,  0.0028,\n",
       "          0.0074, -0.0331], requires_grad=True)]"
      ]
     },
     "execution_count": 105,
     "metadata": {},
     "output_type": "execute_result"
    }
   ],
   "source": [
    "print(model.linear.weight.shape, model.linear.bias.shape)\n",
    "list(model.parameters())"
   ]
  },
  {
   "cell_type": "code",
   "execution_count": 106,
   "id": "9871b7be-093b-454e-acaa-3738213ab513",
   "metadata": {},
   "outputs": [
    {
     "name": "stdout",
     "output_type": "stream",
     "text": [
      "torch.Size([128, 1, 28, 28])\n",
      "outputs.shape:  torch.Size([128, 10])\n",
      "Sample outputs:  tensor([[-1.6712e-01,  2.4132e-02,  7.1035e-02,  2.7540e-01,  2.2309e-03,\n",
      "          1.7427e-01,  4.7878e-02,  6.9738e-02, -5.1939e-01,  3.2343e-01],\n",
      "        [-3.3392e-01, -4.0015e-04,  3.8512e-01,  2.0323e-01, -4.8633e-02,\n",
      "          1.0951e-01,  4.1562e-01,  2.2574e-01, -4.0366e-01, -1.9434e-01]])\n"
     ]
    }
   ],
   "source": [
    "for images, labels in train_loader:\n",
    "    print(images.shape)\n",
    "    outputs = model(images)\n",
    "    break\n",
    "\n",
    "print(\"outputs.shape: \", outputs.shape)\n",
    "print(\"Sample outputs: \", outputs[:2].data)"
   ]
  },
  {
   "cell_type": "code",
   "execution_count": 107,
   "id": "259f38c7-78e4-4a48-b479-5a34122825f6",
   "metadata": {},
   "outputs": [],
   "source": [
    "import torch.nn.functional as F"
   ]
  },
  {
   "cell_type": "code",
   "execution_count": 108,
   "id": "f87d153a-9f94-4857-80bc-fc895fdec26c",
   "metadata": {},
   "outputs": [
    {
     "data": {
      "text/plain": [
       "tensor([[-1.6712e-01,  2.4132e-02,  7.1035e-02,  2.7540e-01,  2.2309e-03,\n",
       "          1.7427e-01,  4.7878e-02,  6.9738e-02, -5.1939e-01,  3.2343e-01],\n",
       "        [-3.3392e-01, -4.0015e-04,  3.8512e-01,  2.0323e-01, -4.8633e-02,\n",
       "          1.0951e-01,  4.1562e-01,  2.2574e-01, -4.0366e-01, -1.9434e-01]],\n",
       "       grad_fn=<SliceBackward0>)"
      ]
     },
     "execution_count": 108,
     "metadata": {},
     "output_type": "execute_result"
    }
   ],
   "source": [
    "outputs[:2]"
   ]
  },
  {
   "cell_type": "code",
   "execution_count": 109,
   "id": "ae4cf622-7605-4a3f-931f-954fab25f088",
   "metadata": {
    "scrolled": true
   },
   "outputs": [
    {
     "name": "stdout",
     "output_type": "stream",
     "text": [
      "Sample probabilities:\n",
      " tensor([[0.0802, 0.0971, 0.1017, 0.1248, 0.0950, 0.1128, 0.0994, 0.1016, 0.0564,\n",
      "         0.1310],\n",
      "        [0.0667, 0.0931, 0.1369, 0.1141, 0.0887, 0.1039, 0.1411, 0.1167, 0.0622,\n",
      "         0.0767]])\n",
      "Sum:  0.9999999403953552\n"
     ]
    }
   ],
   "source": [
    "probs = F.softmax(outputs, dim=1)\n",
    "print(\"Sample probabilities:\\n\", probs[:2].data)\n",
    "print(\"Sum: \", torch.sum(probs[0]).item())"
   ]
  },
  {
   "cell_type": "code",
   "execution_count": 110,
   "id": "e60bec83-0fae-47dd-98ee-841e2d34c3d7",
   "metadata": {},
   "outputs": [
    {
     "name": "stdout",
     "output_type": "stream",
     "text": [
      "tensor([9, 6, 3, 6, 1, 3, 1, 5, 7, 9, 3, 0, 9, 1, 1, 7, 2, 6, 7, 6, 2, 1, 6, 6,\n",
      "        7, 9, 6, 6, 3, 6, 1, 2, 1, 1, 6, 1, 5, 3, 4, 2, 9, 6, 1, 6, 6, 7, 1, 6,\n",
      "        1, 3, 9, 3, 6, 6, 9, 7, 9, 1, 6, 2, 9, 9, 6, 7, 6, 1, 2, 3, 7, 1, 6, 1,\n",
      "        2, 3, 5, 7, 6, 7, 1, 5, 3, 6, 6, 6, 1, 1, 3, 9, 1, 3, 2, 2, 6, 2, 1, 3,\n",
      "        1, 1, 6, 6, 7, 1, 2, 9, 3, 0, 7, 2, 9, 9, 1, 6, 6, 6, 1, 1, 3, 6, 9, 3,\n",
      "        1, 2, 6, 0, 2, 7, 2, 7])\n",
      "tensor([0.1310, 0.1411, 0.1210, 0.1321, 0.1216, 0.1175, 0.1207, 0.1236, 0.1253,\n",
      "        0.1330, 0.1165, 0.1268, 0.1289, 0.1299, 0.1252, 0.1288, 0.1314, 0.1310,\n",
      "        0.1256, 0.1213, 0.1234, 0.1193, 0.1282, 0.1339, 0.1315, 0.1174, 0.1247,\n",
      "        0.1190, 0.1309, 0.1259, 0.1190, 0.1498, 0.1313, 0.1491, 0.1233, 0.1221,\n",
      "        0.1268, 0.1197, 0.1280, 0.1204, 0.1387, 0.1200, 0.1284, 0.1383, 0.1132,\n",
      "        0.1566, 0.1249, 0.1230, 0.1247, 0.1382, 0.1377, 0.1292, 0.1362, 0.1314,\n",
      "        0.1160, 0.1143, 0.1223, 0.1445, 0.1230, 0.1236, 0.1205, 0.1343, 0.1120,\n",
      "        0.1153, 0.1182, 0.1259, 0.1300, 0.1162, 0.1228, 0.1143, 0.1154, 0.1381,\n",
      "        0.1267, 0.1403, 0.1103, 0.1303, 0.1221, 0.1195, 0.1304, 0.1181, 0.1288,\n",
      "        0.1227, 0.1140, 0.1188, 0.1186, 0.1336, 0.1270, 0.1346, 0.1230, 0.1464,\n",
      "        0.1343, 0.1284, 0.1279, 0.1525, 0.1221, 0.1347, 0.1150, 0.1350, 0.1208,\n",
      "        0.1228, 0.1399, 0.1318, 0.1458, 0.1202, 0.1167, 0.1194, 0.1345, 0.1264,\n",
      "        0.1429, 0.1287, 0.1193, 0.1246, 0.1186, 0.1221, 0.1448, 0.1316, 0.1363,\n",
      "        0.1315, 0.1234, 0.1213, 0.1343, 0.1245, 0.1223, 0.1328, 0.1337, 0.1328,\n",
      "        0.1290, 0.1278], grad_fn=<MaxBackward0>)\n"
     ]
    }
   ],
   "source": [
    "max_probs, preds = torch.max(probs, dim=1)  # preds are the predictions of every image\n",
    "print(preds)\n",
    "print(max_probs)"
   ]
  },
  {
   "cell_type": "code",
   "execution_count": 111,
   "id": "7fa1262b-4fd0-49fb-b313-899715709f66",
   "metadata": {},
   "outputs": [
    {
     "data": {
      "text/plain": [
       "tensor([7, 2, 8, 3, 8, 7, 4, 6, 3, 5, 3, 5, 8, 6, 7, 4, 2, 2, 9, 1, 2, 6, 9, 3,\n",
       "        2, 3, 1, 7, 6, 9, 4, 2, 4, 4, 9, 4, 6, 6, 7, 2, 7, 8, 2, 4, 8, 4, 2, 5,\n",
       "        7, 8, 8, 5, 1, 4, 4, 0, 4, 8, 7, 0, 9, 3, 3, 9, 1, 7, 7, 5, 9, 1, 9, 9,\n",
       "        0, 3, 9, 8, 1, 0, 6, 1, 3, 4, 1, 1, 6, 2, 7, 8, 0, 3, 3, 4, 5, 2, 3, 9,\n",
       "        4, 8, 1, 8, 4, 9, 0, 7, 9, 1, 8, 0, 5, 9, 5, 3, 1, 3, 6, 6, 3, 1, 5, 3,\n",
       "        2, 8, 7, 8, 3, 3, 0, 3])"
      ]
     },
     "execution_count": 111,
     "metadata": {},
     "output_type": "execute_result"
    }
   ],
   "source": [
    "labels"
   ]
  },
  {
   "cell_type": "code",
   "execution_count": 112,
   "id": "b79dcef4-96e0-49e6-8a41-7ecd65b8ab0a",
   "metadata": {},
   "outputs": [
    {
     "data": {
      "text/plain": [
       "tensor([[-1.6712e-01,  2.4132e-02,  7.1035e-02,  2.7540e-01,  2.2309e-03,\n",
       "          1.7427e-01,  4.7878e-02,  6.9738e-02, -5.1939e-01,  3.2343e-01],\n",
       "        [-3.3392e-01, -4.0015e-04,  3.8512e-01,  2.0323e-01, -4.8633e-02,\n",
       "          1.0951e-01,  4.1562e-01,  2.2574e-01, -4.0366e-01, -1.9434e-01]],\n",
       "       grad_fn=<SliceBackward0>)"
      ]
     },
     "execution_count": 112,
     "metadata": {},
     "output_type": "execute_result"
    }
   ],
   "source": [
    "outputs[:2]"
   ]
  },
  {
   "cell_type": "code",
   "execution_count": 113,
   "id": "36705f97-3505-4138-9e71-b5b737595aa3",
   "metadata": {},
   "outputs": [
    {
     "data": {
      "text/plain": [
       "tensor(14)"
      ]
     },
     "execution_count": 113,
     "metadata": {},
     "output_type": "execute_result"
    }
   ],
   "source": [
    "torch.sum(preds == labels)"
   ]
  },
  {
   "cell_type": "code",
   "execution_count": 114,
   "id": "90653e5d-78b8-4266-ac27-251159217f3d",
   "metadata": {},
   "outputs": [],
   "source": [
    "def accuracy(outputs, labels):\n",
    "    _, preds = torch.max(outputs, dim=1)\n",
    "    return torch.tensor(torch.sum(preds == labels).item() / len(preds))"
   ]
  },
  {
   "cell_type": "code",
   "execution_count": 115,
   "id": "1a41acec-201c-4ded-8c32-24fcd2db2c7e",
   "metadata": {},
   "outputs": [
    {
     "data": {
      "text/plain": [
       "tensor(0.1094)"
      ]
     },
     "execution_count": 115,
     "metadata": {},
     "output_type": "execute_result"
    }
   ],
   "source": [
    "accuracy(outputs, labels)"
   ]
  },
  {
   "cell_type": "code",
   "execution_count": 116,
   "id": "736e2c3d-d326-4223-9cf1-af6dc9f5cd05",
   "metadata": {},
   "outputs": [
    {
     "data": {
      "text/plain": [
       "tensor([[0.0802, 0.0971, 0.1017,  ..., 0.1016, 0.0564, 0.1310],\n",
       "        [0.0667, 0.0931, 0.1369,  ..., 0.1167, 0.0622, 0.0767],\n",
       "        [0.0790, 0.1019, 0.1106,  ..., 0.0935, 0.0944, 0.1087],\n",
       "        ...,\n",
       "        [0.0962, 0.0841, 0.1121,  ..., 0.1328, 0.1050, 0.0805],\n",
       "        [0.0803, 0.1126, 0.1290,  ..., 0.0792, 0.0778, 0.1092],\n",
       "        [0.0941, 0.0840, 0.1156,  ..., 0.1278, 0.0909, 0.1133]],\n",
       "       grad_fn=<SoftmaxBackward0>)"
      ]
     },
     "execution_count": 116,
     "metadata": {},
     "output_type": "execute_result"
    }
   ],
   "source": [
    "probs"
   ]
  },
  {
   "cell_type": "code",
   "execution_count": 117,
   "id": "6a93cad0-149b-47de-8ee6-79a64c0459bc",
   "metadata": {},
   "outputs": [
    {
     "data": {
      "text/plain": [
       "tensor([[-1.6712e-01,  2.4132e-02,  7.1035e-02,  ...,  6.9738e-02,\n",
       "         -5.1939e-01,  3.2343e-01],\n",
       "        [-3.3392e-01, -4.0015e-04,  3.8512e-01,  ...,  2.2574e-01,\n",
       "         -4.0366e-01, -1.9434e-01],\n",
       "        [-2.9145e-02,  2.2624e-01,  3.0738e-01,  ...,  1.3931e-01,\n",
       "          1.4969e-01,  2.9056e-01],\n",
       "        ...,\n",
       "        [-5.2211e-02, -1.8632e-01,  1.0119e-01,  ...,  2.7087e-01,\n",
       "          3.5905e-02, -2.2953e-01],\n",
       "        [-1.0089e-01,  2.3697e-01,  3.7351e-01,  ..., -1.1412e-01,\n",
       "         -1.3255e-01,  2.0643e-01],\n",
       "        [-8.7035e-02, -2.0009e-01,  1.1949e-01,  ...,  2.1950e-01,\n",
       "         -1.2164e-01,  9.8799e-02]], grad_fn=<AddmmBackward0>)"
      ]
     },
     "execution_count": 117,
     "metadata": {},
     "output_type": "execute_result"
    }
   ],
   "source": [
    "outputs"
   ]
  },
  {
   "cell_type": "code",
   "execution_count": 118,
   "id": "e2d3b2e5-fb9c-497b-a3e3-3e63cd2055db",
   "metadata": {},
   "outputs": [],
   "source": [
    "loss_fn = F.cross_entropy"
   ]
  },
  {
   "cell_type": "code",
   "execution_count": 119,
   "id": "d82d27a9-c390-4822-873b-afb7017436e4",
   "metadata": {},
   "outputs": [
    {
     "name": "stdout",
     "output_type": "stream",
     "text": [
      "tensor(2.2893, grad_fn=<NllLossBackward0>)\n"
     ]
    }
   ],
   "source": [
    "loss = loss_fn(outputs, labels)\n",
    "print(loss)"
   ]
  },
  {
   "cell_type": "code",
   "execution_count": 120,
   "id": "f567bc5e-b3cc-4270-a680-3082282cf688",
   "metadata": {},
   "outputs": [],
   "source": [
    "# evalutaion: find a numerical expression or equivalent for (an equation, formula, or function).\n",
    "\n",
    "def fit(epochs, lr, model, train_loader, val_loader, opt_func=torch.optim.SGD):\n",
    "    optimizer = opt_func(model.parameters(), lr)\n",
    "    history = []  # used to store the result of evaluation in each epoch\n",
    "\n",
    "    for epoch in range(epochs):\n",
    "        for batch in train_loader:\n",
    "            loss = model.training_step(batch)\n",
    "            loss.backward()\n",
    "            optimizer.step()\n",
    "            optimizer.zero_grad()\n",
    "        result = evaluate(model, val_loader)\n",
    "        model.epoch_end(epoch, result)\n",
    "        history.append(result)\n",
    "    return history"
   ]
  },
  {
   "cell_type": "code",
   "execution_count": 121,
   "id": "f0110a2f-a6e8-4043-ba06-9872a9cd371c",
   "metadata": {},
   "outputs": [],
   "source": [
    "l1 = [1, 2, 3, 4, 5]"
   ]
  },
  {
   "cell_type": "code",
   "execution_count": 122,
   "id": "65754309-e5f6-473f-806b-72f562386d25",
   "metadata": {},
   "outputs": [
    {
     "data": {
      "text/plain": [
       "[2, 4, 6, 8, 10]"
      ]
     },
     "execution_count": 122,
     "metadata": {},
     "output_type": "execute_result"
    }
   ],
   "source": [
    "l2 = [x * 2 for x in l1]\n",
    "l2"
   ]
  },
  {
   "cell_type": "code",
   "execution_count": 123,
   "id": "b3cb5ad0-c34a-41be-9a41-215053d86029",
   "metadata": {},
   "outputs": [],
   "source": [
    "def evaluate(model, val_loader):\n",
    "    outputs = [model.validation_step(batch) for batch in val_loader]\n",
    "    return model.validation_epoch_end(outputs)"
   ]
  },
  {
   "cell_type": "code",
   "execution_count": 124,
   "id": "88a4de93-52a5-41ed-8f5c-68a93bbce3dc",
   "metadata": {},
   "outputs": [],
   "source": [
    "class MnistModel(nn.Module):\n",
    "    def __init__(self):\n",
    "        super().__init__()\n",
    "        self.linear = nn.Linear(input_size, num_classes)\n",
    "\n",
    "    def forward(self, xb):\n",
    "        xb = xb.reshape(-1, 784)\n",
    "        out = self.linear(xb)\n",
    "        return out\n",
    "\n",
    "    def training_step(self, batch):\n",
    "        images, labels = batch\n",
    "        out = self(images)\n",
    "        loss = F.cross_entropy(out, labels)\n",
    "        return loss\n",
    "\n",
    "    def validation_step(self, batch):\n",
    "        images, labels = batch\n",
    "        out = self(images)\n",
    "        loss = F.cross_entropy(out, labels)\n",
    "        acc = accuracy(out, labels)\n",
    "        return {\"val_loss\": loss, \"val_acc\": acc}\n",
    "\n",
    "    def validation_epoch_end(self, outputs):\n",
    "        batch_losses = [x['val_loss'] for x in outputs]\n",
    "        epoch_loss = torch.stack(batch_losses).mean()\n",
    "        batch_accs = [x['val_acc'] for x in outputs]\n",
    "        epoch_acc = torch.stack(batch_accs).mean()\n",
    "        return {'val_loss': epoch_loss.item(), 'val_acc': epoch_acc.item()}\n",
    "\n",
    "    def epoch_end(self, epoch, result):\n",
    "        print(\"Epoch [{}], val_loss: {:.4f}, val_acc: {:.4f}\".format(epoch, result['val_loss'], result['val_acc']))\n",
    "\n",
    "model = MnistModel()"
   ]
  },
  {
   "cell_type": "code",
   "execution_count": 125,
   "id": "e689bd41-6043-4e14-9fd5-323a143116df",
   "metadata": {},
   "outputs": [
    {
     "data": {
      "text/plain": [
       "{'val_loss': 2.3123531341552734, 'val_acc': 0.0823773741722107}"
      ]
     },
     "execution_count": 125,
     "metadata": {},
     "output_type": "execute_result"
    }
   ],
   "source": [
    "result0 = evaluate(model, val_loader)\n",
    "result0"
   ]
  },
  {
   "cell_type": "code",
   "execution_count": 126,
   "id": "b73ed619-7492-4c4f-9df9-e34a3bac2274",
   "metadata": {},
   "outputs": [
    {
     "name": "stdout",
     "output_type": "stream",
     "text": [
      "Epoch [0], val_loss: 1.9475, val_acc: 0.6128\n",
      "Epoch [1], val_loss: 1.6801, val_acc: 0.7199\n",
      "Epoch [2], val_loss: 1.4803, val_acc: 0.7590\n",
      "Epoch [3], val_loss: 1.3292, val_acc: 0.7821\n",
      "Epoch [4], val_loss: 1.2128, val_acc: 0.8002\n"
     ]
    }
   ],
   "source": [
    "history1 = fit(5, 0.001, model, train_loader, val_loader)"
   ]
  },
  {
   "cell_type": "code",
   "execution_count": 127,
   "id": "28d4afe4-21ea-4787-afd9-64480d919770",
   "metadata": {},
   "outputs": [
    {
     "name": "stdout",
     "output_type": "stream",
     "text": [
      "Epoch [0], val_loss: 1.1212, val_acc: 0.8091\n",
      "Epoch [1], val_loss: 1.0476, val_acc: 0.8161\n",
      "Epoch [2], val_loss: 0.9873, val_acc: 0.8219\n",
      "Epoch [3], val_loss: 0.9370, val_acc: 0.8283\n",
      "Epoch [4], val_loss: 0.8945, val_acc: 0.8318\n"
     ]
    }
   ],
   "source": [
    "history2 = fit(5, 0.001, model, train_loader, val_loader)"
   ]
  },
  {
   "cell_type": "code",
   "execution_count": 128,
   "id": "6680334e-1d97-41b8-b09f-bc8169988897",
   "metadata": {},
   "outputs": [
    {
     "name": "stdout",
     "output_type": "stream",
     "text": [
      "Epoch [0], val_loss: 0.8580, val_acc: 0.8350\n",
      "Epoch [1], val_loss: 0.8263, val_acc: 0.8384\n",
      "Epoch [2], val_loss: 0.7986, val_acc: 0.8419\n",
      "Epoch [3], val_loss: 0.7741, val_acc: 0.8440\n",
      "Epoch [4], val_loss: 0.7523, val_acc: 0.8463\n"
     ]
    }
   ],
   "source": [
    "history3 = fit(5, 0.001, model, train_loader, val_loader)"
   ]
  },
  {
   "cell_type": "code",
   "execution_count": 129,
   "id": "b4423dd6-d2e8-40d9-ad57-d39f1950b4c6",
   "metadata": {},
   "outputs": [
    {
     "name": "stdout",
     "output_type": "stream",
     "text": [
      "Epoch [0], val_loss: 0.7327, val_acc: 0.8493\n",
      "Epoch [1], val_loss: 0.7150, val_acc: 0.8513\n",
      "Epoch [2], val_loss: 0.6990, val_acc: 0.8534\n",
      "Epoch [3], val_loss: 0.6843, val_acc: 0.8546\n",
      "Epoch [4], val_loss: 0.6709, val_acc: 0.8558\n"
     ]
    }
   ],
   "source": [
    "history4 = fit(5, 0.001, model, train_loader, val_loader)"
   ]
  },
  {
   "cell_type": "code",
   "execution_count": 130,
   "id": "988806a1-8e84-443d-903a-afc6c40e29f4",
   "metadata": {},
   "outputs": [
    {
     "name": "stdout",
     "output_type": "stream",
     "text": [
      "Epoch [0], val_loss: 0.6585, val_acc: 0.8573\n",
      "Epoch [1], val_loss: 0.6471, val_acc: 0.8593\n",
      "Epoch [2], val_loss: 0.6365, val_acc: 0.8601\n",
      "Epoch [3], val_loss: 0.6266, val_acc: 0.8610\n",
      "Epoch [4], val_loss: 0.6174, val_acc: 0.8618\n"
     ]
    }
   ],
   "source": [
    "history5 = fit(5, 0.001, model, train_loader, val_loader)"
   ]
  },
  {
   "cell_type": "code",
   "execution_count": 131,
   "id": "ebf34316-0086-4fea-ac1f-550ca3dc58b5",
   "metadata": {},
   "outputs": [
    {
     "name": "stdout",
     "output_type": "stream",
     "text": [
      "Epoch [0], val_loss: 0.6088, val_acc: 0.8627\n",
      "Epoch [1], val_loss: 0.6007, val_acc: 0.8636\n",
      "Epoch [2], val_loss: 0.5931, val_acc: 0.8651\n",
      "Epoch [3], val_loss: 0.5860, val_acc: 0.8660\n",
      "Epoch [4], val_loss: 0.5792, val_acc: 0.8670\n"
     ]
    }
   ],
   "source": [
    "history6 = fit(5, 0.001, model, train_loader, val_loader)"
   ]
  },
  {
   "cell_type": "code",
   "execution_count": 132,
   "id": "bf4c4378-71e4-4333-ae09-fd68a53cc171",
   "metadata": {},
   "outputs": [],
   "source": [
    "history = [result0] + history1 + history2 + history3 + history4"
   ]
  },
  {
   "cell_type": "code",
   "execution_count": 134,
   "id": "bd31e22e-a6eb-49b6-b251-571eeb1ac2a8",
   "metadata": {},
   "outputs": [
    {
     "data": {
      "text/plain": [
       "Text(0.5, 1.0, 'Accuracy vs. No. of epochs')"
      ]
     },
     "execution_count": 134,
     "metadata": {},
     "output_type": "execute_result"
    },
    {
     "data": {
      "image/png": "[encoded data removed]",
      "text/plain": [
       "<Figure size 640x480 with 1 Axes>"
      ]
     },
     "metadata": {},
     "output_type": "display_data"
    }
   ],
   "source": [
    "accuracies = [result['val_acc'] for result in history]\n",
    "plt.plot(accuracies, '-x')\n",
    "plt.xlabel('epoch')\n",
    "plt.ylabel('accuracy')\n",
    "plt.title('Accuracy vs. No. of epochs')"
   ]
  },
  {
   "cell_type": "code",
   "execution_count": 135,
   "id": "097dec24-0ab6-4d79-b89d-57675342b55e",
   "metadata": {},
   "outputs": [],
   "source": [
    "test_dataset = MNIST(root=\"data/\",\n",
    "                     train=False,\n",
    "                     transform=transforms.ToTensor())"
   ]
  },
  {
   "cell_type": "code",
   "execution_count": 136,
   "id": "86db438f-7c8f-4e30-8162-afb53714386b",
   "metadata": {},
   "outputs": [
    {
     "name": "stdout",
     "output_type": "stream",
     "text": [
      "shape: torch.Size([1, 28, 28])\n",
      "label: 7\n"
     ]
    },
    {
     "data": {
      "image/png": "[encoded data removed]",
      "text/plain": [
       "<Figure size 640x480 with 1 Axes>"
      ]
     },
     "metadata": {},
     "output_type": "display_data"
    }
   ],
   "source": [
    "img, label = test_dataset[0]\n",
    "plt.imshow(img[0], cmap='gray')\n",
    "print(\"shape:\", img.shape)\n",
    "print(\"label:\", label)"
   ]
  },
  {
   "cell_type": "code",
   "execution_count": 137,
   "id": "e7c57c20-6635-4869-9004-3f640128ab7e",
   "metadata": {},
   "outputs": [],
   "source": [
    "def predict_image(img, model):\n",
    "    xb = img.unsqueeze(0)\n",
    "    yb = model(xb)\n",
    "    _, preds = torch.max(yb, dim=1)\n",
    "    return preds[0].item()"
   ]
  },
  {
   "cell_type": "code",
   "execution_count": 140,
   "id": "b1712cb2-6b8d-4bd2-8729-aae30751df28",
   "metadata": {},
   "outputs": [
    {
     "name": "stdout",
     "output_type": "stream",
     "text": [
      "label: 7 , predicted: 7\n"
     ]
    },
    {
     "data": {
      "image/png": "[encoded data removed]",
      "text/plain": [
       "<Figure size 640x480 with 1 Axes>"
      ]
     },
     "metadata": {},
     "output_type": "display_data"
    }
   ],
   "source": [
    "img, label = test_dataset[0]\n",
    "plt.imshow(img[0], cmap='gray')\n",
    "print(\"label:\", label, \", predicted:\", predict_image(img, model))"
   ]
  },
  {
   "cell_type": "code",
   "execution_count": 141,
   "id": "633e0179-d74a-42c0-95fe-888b75f43adb",
   "metadata": {},
   "outputs": [
    {
     "name": "stdout",
     "output_type": "stream",
     "text": [
      "label: 0 , predicted: 0\n"
     ]
    },
    {
     "data": {
      "image/png": "[encoded data removed]",
      "text/plain": [
       "<Figure size 640x480 with 1 Axes>"
      ]
     },
     "metadata": {},
     "output_type": "display_data"
    }
   ],
   "source": [
    "img, label = test_dataset[10]\n",
    "plt.imshow(img[0], cmap='gray')\n",
    "print(\"label:\", label, \", predicted:\", predict_image(img, model))"
   ]
  },
  {
   "cell_type": "code",
   "execution_count": 142,
   "id": "70107fc4-807d-48f7-b52a-ba6a56d63580",
   "metadata": {},
   "outputs": [
    {
     "name": "stdout",
     "output_type": "stream",
     "text": [
      "label: 2 , predicted: 8\n"
     ]
    },
    {
     "data": {
      "image/png": "[encoded data removed]",
      "text/plain": [
       "<Figure size 640x480 with 1 Axes>"
      ]
     },
     "metadata": {},
     "output_type": "display_data"
    }
   ],
   "source": [
    "img, label = test_dataset[1839]\n",
    "plt.imshow(img[0], cmap='gray')\n",
    "print(\"label:\", label, \", predicted:\", predict_image(img, model))"
   ]
  },
  {
   "cell_type": "code",
   "execution_count": 143,
   "id": "c2426926-a210-49b0-9c12-1f34b4fc5d72",
   "metadata": {},
   "outputs": [
    {
     "data": {
      "text/plain": [
       "{'val_loss': 0.553479015827179, 'val_acc': 0.869921863079071}"
      ]
     },
     "execution_count": 143,
     "metadata": {},
     "output_type": "execute_result"
    }
   ],
   "source": [
    "test_loader = DataLoader(test_dataset, batch_size=256)\n",
    "result = evaluate(model, test_loader)\n",
    "result"
   ]
  },
  {
   "cell_type": "code",
   "execution_count": 150,
   "id": "b925ffc5-bde4-4542-92c9-3b4b8f8fd186",
   "metadata": {},
   "outputs": [],
   "source": [
    "torch.save(model.state_dict(), \"mnist-logistric.pth\")"
   ]
  },
  {
   "cell_type": "code",
   "execution_count": 151,
   "id": "b129ec45-c730-4bc3-ad66-fffe029ac2e4",
   "metadata": {},
   "outputs": [
    {
     "data": {
      "text/plain": [
       "OrderedDict([('linear.weight',\n",
       "              tensor([[ 0.0273, -0.0139,  0.0197,  ...,  0.0168,  0.0217, -0.0086],\n",
       "                      [-0.0231,  0.0154,  0.0080,  ..., -0.0187, -0.0168,  0.0357],\n",
       "                      [-0.0222, -0.0068, -0.0183,  ...,  0.0262,  0.0151, -0.0218],\n",
       "                      ...,\n",
       "                      [-0.0206, -0.0005,  0.0334,  ..., -0.0144, -0.0219, -0.0327],\n",
       "                      [-0.0343,  0.0258, -0.0060,  ..., -0.0094, -0.0273, -0.0076],\n",
       "                      [-0.0037, -0.0348, -0.0082,  ...,  0.0274, -0.0126,  0.0327]])),\n",
       "             ('linear.bias',\n",
       "              tensor([-0.0259,  0.0924, -0.0339, -0.0706,  0.0181,  0.0909, -0.0248,  0.0670,\n",
       "                      -0.1509, -0.0385]))])"
      ]
     },
     "execution_count": 151,
     "metadata": {},
     "output_type": "execute_result"
    }
   ],
   "source": [
    "model.state_dict()"
   ]
  },
  {
   "cell_type": "code",
   "execution_count": 152,
   "id": "a3eee463-4ea5-4145-91f0-2dc49b1193ec",
   "metadata": {},
   "outputs": [],
   "source": [
    "model2 = MnistModel()"
   ]
  },
  {
   "cell_type": "code",
   "execution_count": 153,
   "id": "eb36cc23-750f-4799-9c68-61a1443fdd7c",
   "metadata": {},
   "outputs": [
    {
     "data": {
      "text/plain": [
       "OrderedDict([('linear.weight',\n",
       "              tensor([[-1.8231e-02,  3.2895e-02,  3.0647e-02,  ...,  3.4422e-02,\n",
       "                        2.4162e-02,  2.0688e-02],\n",
       "                      [ 2.9305e-02, -5.7697e-05, -1.4199e-02,  ...,  3.4074e-02,\n",
       "                       -7.3502e-03, -3.1393e-02],\n",
       "                      [ 9.2940e-03,  6.1949e-03, -7.8956e-03,  ...,  8.2574e-03,\n",
       "                       -1.0385e-02, -2.1523e-02],\n",
       "                      ...,\n",
       "                      [ 1.2497e-02, -3.3686e-02,  1.6982e-02,  ..., -3.0428e-02,\n",
       "                       -1.0187e-02, -2.3193e-02],\n",
       "                      [ 1.4643e-03, -2.2408e-02,  9.2643e-03,  ..., -2.6435e-02,\n",
       "                       -7.2240e-03, -1.0130e-02],\n",
       "                      [-9.2531e-03, -1.7669e-04, -3.4618e-02,  ..., -1.9500e-02,\n",
       "                        3.6561e-03,  3.4904e-02]])),\n",
       "             ('linear.bias',\n",
       "              tensor([ 0.0040,  0.0297, -0.0334,  0.0166,  0.0273,  0.0245,  0.0252,  0.0154,\n",
       "                      -0.0304,  0.0023]))])"
      ]
     },
     "execution_count": 153,
     "metadata": {},
     "output_type": "execute_result"
    }
   ],
   "source": [
    "model2.state_dict()"
   ]
  },
  {
   "cell_type": "code",
   "execution_count": 154,
   "id": "215729c7-cbe1-4837-a308-3cde30952cdb",
   "metadata": {},
   "outputs": [
    {
     "data": {
      "text/plain": [
       "{'val_loss': 2.343391180038452, 'val_acc': 0.06279297173023224}"
      ]
     },
     "execution_count": 154,
     "metadata": {},
     "output_type": "execute_result"
    }
   ],
   "source": [
    "evaluate(model2, test_loader)"
   ]
  },
  {
   "cell_type": "code",
   "execution_count": 156,
   "id": "94ebfe15-da0d-45d4-8093-4b77822ae593",
   "metadata": {},
   "outputs": [
    {
     "data": {
      "text/plain": [
       "OrderedDict([('linear.weight',\n",
       "              tensor([[ 0.0273, -0.0139,  0.0197,  ...,  0.0168,  0.0217, -0.0086],\n",
       "                      [-0.0231,  0.0154,  0.0080,  ..., -0.0187, -0.0168,  0.0357],\n",
       "                      [-0.0222, -0.0068, -0.0183,  ...,  0.0262,  0.0151, -0.0218],\n",
       "                      ...,\n",
       "                      [-0.0206, -0.0005,  0.0334,  ..., -0.0144, -0.0219, -0.0327],\n",
       "                      [-0.0343,  0.0258, -0.0060,  ..., -0.0094, -0.0273, -0.0076],\n",
       "                      [-0.0037, -0.0348, -0.0082,  ...,  0.0274, -0.0126,  0.0327]])),\n",
       "             ('linear.bias',\n",
       "              tensor([-0.0259,  0.0924, -0.0339, -0.0706,  0.0181,  0.0909, -0.0248,  0.0670,\n",
       "                      -0.1509, -0.0385]))])"
      ]
     },
     "execution_count": 156,
     "metadata": {},
     "output_type": "execute_result"
    }
   ],
   "source": [
    "model2.load_state_dict(torch.load('mnist-logistric.pth'))\n",
    "model2.state_dict()"
   ]
  },
  {
   "cell_type": "code",
   "execution_count": 157,
   "id": "1711f563-6ea4-4d02-88ea-8e50c426d80c",
   "metadata": {},
   "outputs": [],
   "source": [
    "test_loader = DataLoader(test_dataset, batch_size=256)\n",
    "result = evaluate(model2, test_loader)"
   ]
  },
  {
   "cell_type": "code",
   "execution_count": 158,
   "id": "e4e5cef5-a3b6-43ad-9519-e4b238cfa139",
   "metadata": {},
   "outputs": [
    {
     "data": {
      "text/plain": [
       "{'val_loss': 0.553479015827179, 'val_acc': 0.869921863079071}"
      ]
     },
     "execution_count": 158,
     "metadata": {},
     "output_type": "execute_result"
    }
   ],
   "source": [
    "result"
   ]
  },
  {
   "cell_type": "code",
   "execution_count": null,
   "id": "cd33bba3-4af4-4152-88c4-233ccd0c0ff0",
   "metadata": {},
   "outputs": [],
   "source": []
  }
 ],
 "metadata": {
  "kernelspec": {
   "display_name": "Python 3 (ipykernel)",
   "language": "python",
   "name": "python3"
  },
  "language_info": {
   "codemirror_mode": {
    "name": "ipython",
    "version": 3
   },
   "file_extension": ".py",
   "mimetype": "text/x-python",
   "name": "python",
   "nbconvert_exporter": "python",
   "pygments_lexer": "ipython3",
   "version": "3.11.5"
  }
 },
 "nbformat": 4,
 "nbformat_minor": 5
}
