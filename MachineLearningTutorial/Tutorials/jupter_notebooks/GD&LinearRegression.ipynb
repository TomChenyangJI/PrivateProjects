{
 "cells": [
  {
   "cell_type": "code",
   "execution_count": null,
   "id": "0fc9c574-47c8-4e98-92e7-d0f0d5b084f8",
   "metadata": {},
   "outputs": [],
   "source": [
    "import numpy as np\n",
    "import torch"
   ]
  },
  {
   "cell_type": "code",
   "execution_count": null,
   "id": "bcc22ac9-31f7-4d03-8fe0-4b8988d963ce",
   "metadata": {},
   "outputs": [],
   "source": [
    "inputs = np.array(\n",
    "    [\n",
    "        [73, 67, 43],\n",
    "        [91, 88, 64],\n",
    "        [87, 134, 58],\n",
    "        [102, 43, 37],\n",
    "        [69, 96, 70]\n",
    "    ], dtype=\"float32\"\n",
    ")\n",
    "targets = np.array(\n",
    "    [\n",
    "        [56, 70],\n",
    "        [81, 101],\n",
    "        [119, 133],\n",
    "        [22,  37],\n",
    "        [103, 119]\n",
    "    ], dtype=\"float32\"\n",
    ")"
   ]
  },
  {
   "cell_type": "code",
   "execution_count": null,
   "id": "3a34bf55-f166-47ea-8b04-410e76961685",
   "metadata": {},
   "outputs": [],
   "source": [
    "inputs = torch.from_numpy(inputs)\n",
    "targets = torch.from_numpy(targets)\n",
    "print(inputs)\n",
    "print(targets)"
   ]
  },
  {
   "cell_type": "code",
   "execution_count": null,
   "id": "ea228237-7d21-4914-8373-94694c945255",
   "metadata": {},
   "outputs": [],
   "source": [
    "# therefore, I have to create a weight matrix with feature number x target number\n",
    "# and a bias matrix by sample number x target number\n",
    "w = torch.randn(2, 3, requires_grad=True)  # torch.randn() method creates a tensor with the given shape, with elements picked randomly from a normal distribution with mean 0 and standard deviation 1.\n",
    "b = torch.randn(2, requires_grad=True)\n",
    "print(w)\n",
    "print(b)"
   ]
  },
  {
   "cell_type": "code",
   "execution_count": null,
   "id": "8aa8baa6-bd27-4cb5-a24a-ac53972f24ab",
   "metadata": {},
   "outputs": [],
   "source": [
    "def model(x):\n",
    "    return x @ w.t() + b"
   ]
  },
  {
   "cell_type": "code",
   "execution_count": null,
   "id": "29bc728a-bee0-48a9-b359-aadc9d062950",
   "metadata": {},
   "outputs": [],
   "source": [
    "preds = model(inputs)\n",
    "print(preds)"
   ]
  },
  {
   "cell_type": "code",
   "execution_count": null,
   "id": "d5850cee-2a6f-492f-91cc-670262301904",
   "metadata": {},
   "outputs": [],
   "source": [
    "print(targets)"
   ]
  },
  {
   "cell_type": "code",
   "execution_count": null,
   "id": "49e9dcf9-b2d5-46e8-b17f-5215a45003ff",
   "metadata": {},
   "outputs": [],
   "source": [
    "# MSE loss\n",
    "def mse(t1, t2):\n",
    "    diff = t1 - t2\n",
    "    return torch.sum(diff * diff) / diff.numel()\n",
    "    # torch.sum method returns the sum of all the elements in a tensor.\n",
    "    # torch.numel() method returns the number of elements in a tensor."
   ]
  },
  {
   "cell_type": "code",
   "execution_count": null,
   "id": "afc05679-59cd-46c8-b908-8644dc634c9f",
   "metadata": {},
   "outputs": [],
   "source": [
    "loss = mse(preds, targets)\n",
    "print(loss)"
   ]
  },
  {
   "cell_type": "code",
   "execution_count": null,
   "id": "280f9b82-b6ac-46fb-804d-06e1e11855fe",
   "metadata": {},
   "outputs": [],
   "source": [
    "loss.backward()"
   ]
  },
  {
   "cell_type": "code",
   "execution_count": null,
   "id": "3432c800-02d0-4dae-8f4e-459fc8fac6ee",
   "metadata": {},
   "outputs": [],
   "source": [
    "print(w)\n",
    "print(w.grad)"
   ]
  },
  {
   "cell_type": "code",
   "execution_count": null,
   "id": "70c8e31a-695d-4c14-a7e7-e8117659afb0",
   "metadata": {},
   "outputs": [],
   "source": [
    "with torch.no_grad():  # torch.no_grad(), to indicate to pytorch that we shouldn't track, calculate, or modify gradients while updating the weights and biases.\n",
    "    # i.e., leave the gradients what they used to be.\n",
    "    w -= w.grad * 1e-5\n",
    "    b -= b.grad * 1e-5\n"
   ]
  },
  {
   "cell_type": "code",
   "execution_count": null,
   "id": "efb10d3c-1992-4db5-889f-526884bcdf65",
   "metadata": {},
   "outputs": [],
   "source": [
    "loss = mse(preds, targets)\n",
    "print(loss)"
   ]
  },
  {
   "cell_type": "code",
   "execution_count": null,
   "id": "3a4583b3-d98d-4869-ac46-2ebff24e0100",
   "metadata": {},
   "outputs": [],
   "source": [
    "w.grad.zero_()\n",
    "b.grad.zero_()\n",
    "print(w.grad)\n",
    "print(b.grad)"
   ]
  },
  {
   "cell_type": "code",
   "execution_count": null,
   "id": "bbbbd5df-6f17-4de1-887a-3d57c8177061",
   "metadata": {},
   "outputs": [],
   "source": [
    "preds = model(inputs)\n",
    "print(preds)"
   ]
  },
  {
   "cell_type": "code",
   "execution_count": null,
   "id": "2185c6c1-a278-41e3-a73e-b83357626282",
   "metadata": {},
   "outputs": [],
   "source": [
    "loss = mse(preds, targets)\n",
    "print(loss)"
   ]
  },
  {
   "cell_type": "code",
   "execution_count": null,
   "id": "f83a22b9-4db1-43a5-8188-2d1e568a00eb",
   "metadata": {},
   "outputs": [],
   "source": [
    "loss.backward()\n",
    "print(w.grad)\n",
    "print(b.grad)"
   ]
  },
  {
   "cell_type": "code",
   "execution_count": null,
   "id": "06037e00-fc23-43ae-95f1-c4d1aff9dd36",
   "metadata": {},
   "outputs": [],
   "source": [
    "with torch.no_grad():\n",
    "    w -= w.grad * 1e-5\n",
    "    b -= b.grad * 1e-5\n",
    "    w.grad.zero_()\n",
    "    b.grad.zero_()"
   ]
  },
  {
   "cell_type": "code",
   "execution_count": null,
   "id": "6e6c4633-ecd8-4927-b157-d9b52961d41e",
   "metadata": {},
   "outputs": [],
   "source": [
    "print(w)\n",
    "print(b)"
   ]
  },
  {
   "cell_type": "code",
   "execution_count": null,
   "id": "e7095f7d-d31f-489a-a3e7-c8980884aa1a",
   "metadata": {},
   "outputs": [],
   "source": [
    "preds = model(inputs)\n",
    "loss = mse(preds, targets)\n",
    "print(loss)"
   ]
  },
  {
   "cell_type": "code",
   "execution_count": null,
   "id": "17023e3d-ba7e-42a3-8bd3-fc360f5288eb",
   "metadata": {},
   "outputs": [],
   "source": [
    "# train for multiple epochs\n",
    "for i in range(200):\n",
    "    preds = model(inputs)\n",
    "    loss = mse(preds, targets)\n",
    "    loss.backward()\n",
    "    with torch.no_grad():\n",
    "        w -= w.grad * 1e-5\n",
    "        b -= b.grad * 1e-5\n",
    "        w.grad.zero_()\n",
    "        b.grad.zero_()"
   ]
  },
  {
   "cell_type": "code",
   "execution_count": null,
   "id": "48dca353-b73c-4100-8081-08cb17c1b4c5",
   "metadata": {},
   "outputs": [],
   "source": [
    "preds = model(inputs)\n",
    "loss = mse(preds, targets)\n",
    "print(loss)"
   ]
  },
  {
   "cell_type": "code",
   "execution_count": null,
   "id": "fc679db2-3100-4053-a670-665627a99a63",
   "metadata": {},
   "outputs": [],
   "source": [
    "# Linear regression using pytorch built-ins\n",
    "import torch.nn as nn"
   ]
  },
  {
   "cell_type": "code",
   "execution_count": null,
   "id": "9f5f2f97-30ee-4b0b-a5ed-52895d3cc025",
   "metadata": {},
   "outputs": [],
   "source": [
    "# Input (temp, rainfall, humidity)\n",
    "inputs = np.array([[73, 67, 43], \n",
    "                   [91, 88, 64], \n",
    "                   [87, 134, 58], \n",
    "                   [102, 43, 37], \n",
    "                   [69, 96, 70], \n",
    "                   [74, 66, 43], \n",
    "                   [91, 87, 65], \n",
    "                   [88, 134, 59], \n",
    "                   [101, 44, 37], \n",
    "                   [68, 96, 71], \n",
    "                   [73, 66, 44], \n",
    "                   [92, 87, 64], \n",
    "                   [87, 135, 57], \n",
    "                   [103, 43, 36], \n",
    "                   [68, 97, 70]], \n",
    "                  dtype='float32')\n",
    "\n",
    "# Targets (apples, oranges)\n",
    "targets = np.array([[56, 70], \n",
    "                    [81, 101], \n",
    "                    [119, 133], \n",
    "                    [22, 37], \n",
    "                    [103, 119],\n",
    "                    [57, 69], \n",
    "                    [80, 102], \n",
    "                    [118, 132], \n",
    "                    [21, 38], \n",
    "                    [104, 118], \n",
    "                    [57, 69], \n",
    "                    [82, 100], \n",
    "                    [118, 134], \n",
    "                    [20, 38], \n",
    "                    [102, 120]], \n",
    "                   dtype='float32')\n",
    "\n",
    "inputs = torch.from_numpy(inputs)\n",
    "targets = torch.from_numpy(targets)\n"
   ]
  },
  {
   "cell_type": "code",
   "execution_count": null,
   "id": "e794d403-a0db-4ca2-b0ba-1e462e46117a",
   "metadata": {},
   "outputs": [],
   "source": [
    "inputs"
   ]
  },
  {
   "cell_type": "code",
   "execution_count": null,
   "id": "9f35d4a8-dc79-4655-bfd8-84d61bdb31b8",
   "metadata": {},
   "outputs": [],
   "source": [
    "from torch.utils.data import TensorDataset"
   ]
  },
  {
   "cell_type": "code",
   "execution_count": null,
   "id": "fd91e3f1-8368-4e94-a4f0-4d1e6e314d10",
   "metadata": {},
   "outputs": [],
   "source": [
    "# define dataset\n",
    "# TODO look up TensorDataset class.\n",
    "train_ds = TensorDataset(inputs, targets)  # combine two tensors together.\n",
    "train_ds[0:3]"
   ]
  },
  {
   "cell_type": "code",
   "execution_count": null,
   "id": "5e9692de-1e18-489b-ac5e-f65b0c048560",
   "metadata": {},
   "outputs": [],
   "source": [
    "from torch.utils.data import DataLoader"
   ]
  },
  {
   "cell_type": "code",
   "execution_count": null,
   "id": "19618aa9-33b9-44c5-bc9b-1d84bd998f8c",
   "metadata": {},
   "outputs": [],
   "source": [
    "# Define data loader\n",
    "batch_size = 5\n",
    "train_dl = DataLoader(train_ds, batch_size, shuffle=True)  # TODO check the function of shuffle.\n"
   ]
  },
  {
   "cell_type": "code",
   "execution_count": null,
   "id": "385f85c1-7df3-471e-b1d6-6e1d7896d58e",
   "metadata": {},
   "outputs": [],
   "source": [
    "for xb, yb in train_dl:  # in each iteration, the data loader returns one batch of data with the given batch size.\n",
    "    print(xb)\n",
    "    print(yb)\n",
    "    break"
   ]
  },
  {
   "cell_type": "code",
   "execution_count": null,
   "id": "c056fdd9-91e0-4aee-a6fb-162a8d43ccfa",
   "metadata": {},
   "outputs": [],
   "source": [
    "model = nn.Linear(3, 2)\n",
    "print(model.weight)"
   ]
  },
  {
   "cell_type": "code",
   "execution_count": null,
   "id": "fddc656a-eb74-44dd-9c65-45946c1568a3",
   "metadata": {},
   "outputs": [],
   "source": [
    "print(model.bias)"
   ]
  },
  {
   "cell_type": "code",
   "execution_count": null,
   "id": "df483f99-f6c5-43ca-83a0-032ccd504ed0",
   "metadata": {},
   "outputs": [],
   "source": [
    "list(model.parameters())  # model.parameters(), returns a list containing all the weights and bias matrices present in the model."
   ]
  },
  {
   "cell_type": "code",
   "execution_count": null,
   "id": "3638c689-bff9-4b0b-8a5a-c58490849520",
   "metadata": {},
   "outputs": [],
   "source": [
    "preds = model(inputs)\n",
    "preds"
   ]
  },
  {
   "cell_type": "code",
   "execution_count": null,
   "id": "534cb370-0f76-48aa-b7b8-2d97c94f81eb",
   "metadata": {},
   "outputs": [],
   "source": [
    "import torch.nn.functional as F\n"
   ]
  },
  {
   "cell_type": "code",
   "execution_count": null,
   "id": "2ba2ab52-9543-40cf-abfe-cb5fddaaa0d4",
   "metadata": {},
   "outputs": [],
   "source": [
    "loss_fn = F.mse_loss"
   ]
  },
  {
   "cell_type": "code",
   "execution_count": null,
   "id": "48f59295-a1ff-482d-897d-cac575e4ba32",
   "metadata": {},
   "outputs": [],
   "source": [
    "loss = loss_fn(model(inputs), targets)\n",
    "print(loss)"
   ]
  },
  {
   "cell_type": "code",
   "execution_count": null,
   "id": "b64a11d9-6261-473a-9287-458e72a7bd41",
   "metadata": {},
   "outputs": [],
   "source": [
    "# optimizer\n",
    "opt = torch.optim.SGD(model.parameters(), lr=1e-5)"
   ]
  },
  {
   "cell_type": "code",
   "execution_count": null,
   "id": "81b29c39-bce8-4811-995c-fc3bc778102a",
   "metadata": {},
   "outputs": [],
   "source": [
    "# train the model\n",
    "def fit(num_epochs, model, loss_fn, opt, train_dl):\n",
    "    for epoch in range(num_epochs): # each iteration returns a batch of data from dataset.\n",
    "        for xb, yb in train_dl:\n",
    "            pred = model(xb)\n",
    "            loss = loss_fn(pred, yb)\n",
    "            loss.backward()\n",
    "            opt.step()\n",
    "            opt.zero_grad()\n",
    "        if (epoch+1) % 10 == 0:\n",
    "            print(\"Epoch [{}/{}], Loss: {:.4f}\".format(epoch+1, num_epochs, loss.item()))\n",
    "            "
   ]
  },
  {
   "cell_type": "code",
   "execution_count": null,
   "id": "b3f5b2b2-a3dd-422f-95e3-295d16464b49",
   "metadata": {},
   "outputs": [],
   "source": [
    "fit(100, model, loss_fn, opt, train_dl)"
   ]
  },
  {
   "cell_type": "code",
   "execution_count": null,
   "id": "f72f0a0a-1388-4c10-a815-28336ee0c43e",
   "metadata": {},
   "outputs": [],
   "source": [
    "preds = model(inputs)\n",
    "preds"
   ]
  },
  {
   "cell_type": "code",
   "execution_count": null,
   "id": "e5edd45d-a424-4ee3-bd75-58f699e64a50",
   "metadata": {},
   "outputs": [],
   "source": [
    "model(torch.tensor([[75, 53, 44.]]))"
   ]
  },
  {
   "cell_type": "code",
   "execution_count": null,
   "id": "712d6e06-c2d3-47b8-91c5-4ce34e419cb4",
   "metadata": {},
   "outputs": [],
   "source": []
  }
 ],
 "metadata": {
  "kernelspec": {
   "display_name": "Python 3 (ipykernel)",
   "language": "python",
   "name": "python3"
  },
  "language_info": {
   "codemirror_mode": {
    "name": "ipython",
    "version": 3
   },
   "file_extension": ".py",
   "mimetype": "text/x-python",
   "name": "python",
   "nbconvert_exporter": "python",
   "pygments_lexer": "ipython3",
   "version": "3.10.2"
  }
 },
 "nbformat": 4,
 "nbformat_minor": 5
}
